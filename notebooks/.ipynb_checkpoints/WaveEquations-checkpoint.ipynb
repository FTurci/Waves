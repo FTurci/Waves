{
 "cells": [
  {
   "cell_type": "markdown",
   "id": "dde258ac",
   "metadata": {
    "slideshow": {
     "slide_type": "slide"
    }
   },
   "source": [
    "# Solving the wave equation in Python\n",
    "\n",
    "Francesco Turci\n",
    "\n",
    "25 March 2024"
   ]
  },
  {
   "cell_type": "markdown",
   "id": "38b13821",
   "metadata": {
    "slideshow": {
     "slide_type": "slide"
    }
   },
   "source": [
    "# A concrete problem\n",
    "\n",
    "A single clap of our hands compresses the air locally and generates a longitudinal wave propagating through the air: **a sound wave**.\n",
    "\n",
    "\n",
    "<div class=\"alert alert-block alert-success\">\n",
    "<b>Can we model sound propagation using the numerical tools that we know? </b>\n",
    "</div>"
   ]
  },
  {
   "cell_type": "markdown",
   "id": "9cb478c7",
   "metadata": {
    "slideshow": {
     "slide_type": "skip"
    }
   },
   "source": [
    "# The wave equation\n",
    "\n",
    "The wave equation models the space and time behaviour of a field $u(\\vec{r},t)$\n",
    "\n",
    "\n",
    "$$\\dfrac{\\partial^2 u}{\\partial t^2}=c^2 \\nabla^2 u$$\n",
    "\n",
    "where the symbol $\\nabla^2$ ( _nabla squared_) corresponds to the sum of **second derivatives in the Cartesian spatial dimensions**.\n",
    "\n",
    "\n",
    "The constant $c$ is the **wave velocity**."
   ]
  },
  {
   "cell_type": "markdown",
   "id": "612863e8",
   "metadata": {
    "slideshow": {
     "slide_type": "slide"
    }
   },
   "source": [
    "# The wave equation\n",
    "\n",
    "The wave equation models the space and time behaviour of a field $u(\\vec{r},t)$.\n",
    "\n",
    "For example, in three  dimensions, the wave equation reads\n",
    "\n",
    "$$\\dfrac{\\partial^2 u(x,y,z,t)}{\\partial t^2}=c^2 \\left(\\dfrac{\\partial^2 u(x,y,z,t)}{\\partial x^2}+ \\dfrac{\\partial^2 u(x,y,z,t)}{\\partial y^2}+\\dfrac{\\partial^2 u(x,y,z,t)}{\\partial z^2} \\right)$$\n",
    "\n",
    "The constant $c$ is the **wave velocity**.\n",
    "\n",
    "It is a **second-order, linear partial differential equation**. To be solved, it requires **two initial conditions**:\n",
    "\n",
    "$$\n",
    "\\begin{align}u(x,y,z,0)&= I(x,y,z)\\\\\n",
    "\\partial_t u(x,y,z,0)&=0 \n",
    "\\end{align}\n",
    "$$\n",
    "\n",
    "where the function $I(x,y,z)$ is the initial shape of the signal. \n",
    "\n",
    "**Boundary conditions** are also needed: we will see them later.\n"
   ]
  },
  {
   "cell_type": "markdown",
   "id": "b0010804",
   "metadata": {
    "slideshow": {
     "slide_type": "slide"
    }
   },
   "source": [
    "In our acoustic problem, the field of interest is the **pressure** $p$. In general it depends on the three spatial coordinates as well as time.\n",
    "\n",
    "For the moment, however, let us simplify the description and only consider propagation in a **single spatial dimension** $x$.\n",
    "\n",
    "\n",
    "\n"
   ]
  },
  {
   "cell_type": "markdown",
   "id": "550c3d0e",
   "metadata": {},
   "source": [
    "$$\\dfrac{\\partial^2 p(x,t)}{\\partial t^2}=c^2 \\dfrac{\\partial^2 p(x,t)}{\\partial x^2},\\quad \n",
    "p(x,0)= I(x),\\quad\n",
    "\\partial_t p(x,0)=0 \n",
    "$$\n",
    "\n",
    "Here $c$ is the sound velocity, and it depends on the elastic modulus and the density of air."
   ]
  },
  {
   "cell_type": "markdown",
   "id": "21f5ade9",
   "metadata": {
    "slideshow": {
     "slide_type": "slide"
    }
   },
   "source": [
    "## Thinking algorithmically\n",
    "\n",
    "The pressure in the wave equation is defined everywhere and for all times. \n",
    "\n",
    "Yet, on the computer, we can only deal with **discrete** amounts of data in space and time.\n",
    "\n",
    "To solve our problem, the following recipe will be useful:\n",
    "\n",
    "<div class=\"alert alert-block alert-info\"> <b>Recipe</b> <br>\n",
    "    1 - Discretise all the field $p$ and its <b>derivatives</b> (space and time)<br>\n",
    "    2 - Approximate the <b>time evolution</b> <br>\n",
    "    3 - From a given initial condition $p_0$, <b>recursively</b> update the pressure field <br>\n",
    "</div>"
   ]
  },
  {
   "cell_type": "markdown",
   "id": "f64d6e65",
   "metadata": {
    "slideshow": {
     "slide_type": "slide"
    }
   },
   "source": [
    "## Discretisation\n",
    "\n",
    "- We sample the field at fixed positions $x_0\\dots x_N$ separated by a spacing $\\Delta x$, with $L = N\\Delta x$\n",
    "- We sample the field at discrete times $t_0\\dots t_n$ separated by an interval $\\Delta t$\n",
    "\n",
    "<center>\n",
    "    <img src=\"gridV.png\" alt-text=\"grid\" style=\"height: 350px\"> \n",
    "</center>\n",
    "\n",
    "This means that $p$ is defined over a **grid in space and time**. \n",
    "\n",
    "Grids are easily represented as **arrays** on a computer. \n",
    "\n",
    "We have 1+1 dimensions, so we want the pressure to be an **array** `p` such that **rows are space and columns are time**. We refer to this array with the notation $p_i^n$ , where $n$ is the time index and $i$ is the spatial index.\n",
    "\n",
    "\n",
    "But how do we deal with the derivatives?"
   ]
  },
  {
   "cell_type": "markdown",
   "id": "f6071a5a",
   "metadata": {
    "slideshow": {
     "slide_type": "slide"
    }
   },
   "source": [
    "### Discretisation: first derivative by finite differences\n",
    "\n",
    "By definition\n",
    "\n",
    "$$\\dfrac{\\partial p(x,t)}{\\partial x}= \\lim_{\\Delta x\\rightarrow 0 }\\dfrac{p(x+\\Delta x)-p(x)}{\\Delta x}$$"
   ]
  },
  {
   "cell_type": "markdown",
   "id": "871f1f8b",
   "metadata": {
    "slideshow": {
     "slide_type": "fragment"
    }
   },
   "source": [
    "On the computer, instead of taking the limit, we can just take a _small_ $\\Delta x$, so that \n",
    "\n",
    "$$\\dfrac{\\partial p(x,t)}{\\partial x}\\approx\\dfrac{p(x+\\Delta x,t)-p(x,t)}{\\Delta x}$$\n",
    "\n",
    "Using our simplified array notation we have\n",
    "\n",
    "$$\\dfrac{\\partial p(x_i,t_n)}{\\partial x}\\approx\\dfrac{p_{i+1}^{n}-p_{i}^{n}}{\\Delta x}$$"
   ]
  },
  {
   "cell_type": "markdown",
   "id": "6479a2ca",
   "metadata": {
    "slideshow": {
     "slide_type": "fragment"
    }
   },
   "source": [
    "Yet, for the wave equation, we need the **second derivative**."
   ]
  },
  {
   "cell_type": "markdown",
   "id": "a3a46867",
   "metadata": {
    "slideshow": {
     "slide_type": "slide"
    }
   },
   "source": [
    "### Discretisation: second derivative\n",
    "\n",
    "We can very simply think of the second derivative as the change in the first derivative between $x-\\Delta x$ and $x+\\Delta x$\n",
    "\n",
    "$$\n",
    "\\dfrac{\\partial^2 p(x,t)}{\\partial x^2}\\approx\\dfrac{\\dfrac{p(x+\\Delta x,t)-p(x,t)}{\\Delta x}-\\dfrac{p(x,t)-p(x-\\Delta x,t)}{\\Delta x}}{\\Delta x}\\\\\n",
    "$$"
   ]
  },
  {
   "cell_type": "markdown",
   "id": "217b6bda",
   "metadata": {
    "slideshow": {
     "slide_type": "fragment"
    }
   },
   "source": [
    "$$= \\frac{p(x+\\Delta x,t)-2 p(x,t)+p(x-\\Delta x,t)}{\\Delta x^2} \n",
    "$$\n",
    "\n",
    "This is a simple recipe which requires the knowledge of the pressure at **$x$ and two points around $x$**."
   ]
  },
  {
   "cell_type": "markdown",
   "id": "1e7919bc",
   "metadata": {
    "slideshow": {
     "slide_type": "slide"
    }
   },
   "source": [
    "An identical argument can be made for the **time derivative**.\n",
    "\n",
    "Using the array notation, we finally have\n",
    "\n",
    "$$\n",
    "\\begin{align}\n",
    "\\dfrac{\\partial^2 p(x_i,t_n)}{\\partial x^2}&\\approx\\dfrac{p_{i+1}^{n}-2 p_{i}^n+p_{i-1}^{n}}{\\Delta x^2}  \\\\\n",
    "\\dfrac{\\partial^2 p(x_i,t_n)}{\\partial t^2}&\\approx \\dfrac{p_i^{n+1}-2p_i^{n}+p_i^{n-1}}{\\Delta t^2}\n",
    "\\end{align}\n",
    "$$"
   ]
  },
  {
   "cell_type": "markdown",
   "id": "06b65b8b",
   "metadata": {
    "slideshow": {
     "slide_type": "-"
    }
   },
   "source": [
    "We can plug this in the wave equation to get\n",
    "\n",
    "$$\n",
    "\\begin{equation}\n",
    "\\boxed{\\dfrac{p_i^{n+1}-2p_i^{n}+p_i^{n-1}}{\\Delta t^2}=c^2\\dfrac{p_{i+1}^{n}-2 p_{i}^n+p_{i-1}^{n}}{\\Delta x^2}}\n",
    "\\end{equation}\n",
    "$$\n",
    "\n"
   ]
  },
  {
   "cell_type": "markdown",
   "id": "e38005f9",
   "metadata": {
    "slideshow": {
     "slide_type": "slide"
    }
   },
   "source": [
    "### Discretised wave equation\n",
    "\n",
    "We can rearrange the previous equation as \n",
    "\n",
    "$$\n",
    "\\begin{equation}\n",
    "p_i^{n+1}-2p_i^{n}+p_i^{n-1}=\\alpha^2 \\left( p_{i+1}^{n}-2 p_{i}^n+p_{i-1}^{n}\\right)\n",
    "\\end{equation}\n",
    "$$\n",
    "\n",
    "where $\\alpha$ is the **Courant number** $\\alpha=c\\Delta t/\\Delta x$. \n",
    "\n",
    "It is a **non-dimensional number** that we want to be _small_. It illustrates that space and time discretisations are **linked**.\n",
    "\n"
   ]
  },
  {
   "cell_type": "markdown",
   "id": "d8a7d7fe",
   "metadata": {
    "slideshow": {
     "slide_type": "slide"
    }
   },
   "source": [
    "### Recursion\n",
    "\n",
    "For later iterations, we need an **update rule**.  From\n",
    "\n",
    "$$\n",
    "\\begin{equation}\n",
    "p_i^{n+1}-2p_i^{n}+p_i^{n-1}=\\alpha^2 \\left( p_{i+1}^{n}-2 p_{i}^n+p_{i-1}^{n}\\right)\n",
    "\\end{equation}\n",
    "$$\n",
    "\n",
    "we can rearrange the terms so that we express the term $p_i^{n+1}$ (the wave **in the future** at step `n+1`) as a function of the other terms\n",
    "\n",
    "$$\n",
    "\\begin{equation}\n",
    "\\boxed{p_i^{n+1}=\\alpha^2 \\left( p_{i+1}^{n}-2 p_{i}^n+p_{i-1}^{n}\\right)+2p_i^{n}-p_i^{n-1}}\n",
    "\\end{equation}\n",
    "$$\n",
    "\n",
    "This is our key result. It can be readily **implemented**."
   ]
  },
  {
   "cell_type": "markdown",
   "id": "2ddd57eb",
   "metadata": {
    "slideshow": {
     "slide_type": "slide"
    }
   },
   "source": [
    "### Initial conditions\n",
    "\n",
    "The first initial condition becomes\n",
    "\n",
    "$$p_i^0= I(x_i)$$\n",
    "\n",
    "\n",
    "while $\\partial_t p(x,0)=0$  becomes  \n",
    "\n",
    "$$\\partial_t p(x,0)\\approx(p_i^{1}-p_i^0)/\\Delta t\\rightarrow p_i^0= p_i^1$$\n",
    "\n",
    "\n",
    "This means that:\n",
    "- we can choose an initial shape for the wave (for example a localised signal)\n",
    "- we can set this both for the 0th and 1st iteration\n"
   ]
  },
  {
   "cell_type": "markdown",
   "id": "ea367b27",
   "metadata": {
    "slideshow": {
     "slide_type": "slide"
    }
   },
   "source": [
    "## Implementation \n",
    "\n",
    "Algorithm:\n",
    "\n",
    "1. Set the initial conditions\n",
    "2. Update the pressure at step n+1\n",
    "3. Enforce the boundary conditions\n",
    "\n",
    "The **boundary conditions** arise because we  simulate a finite domain. There are many options (periodic, reflective, constant).\n",
    "\n",
    "Here we decide to take constant (Dirichlet) boundary conditions, such that $p_0^n=p_{-1}^n=0$, where the index $-1$ stands for the **last element of the array** (Python convention)."
   ]
  },
  {
   "cell_type": "code",
   "execution_count": 1,
   "id": "7804717e",
   "metadata": {},
   "outputs": [],
   "source": [
    "%matplotlib widget\n",
    "import numpy as np\n",
    "import matplotlib.pyplot as plt"
   ]
  },
  {
   "cell_type": "markdown",
   "id": "f4bf01df",
   "metadata": {
    "slideshow": {
     "slide_type": "slide"
    }
   },
   "source": [
    "### Initialisation\n",
    "\n",
    "- Choose a domain of length `L` divided in `N` intervals and a small Courant `alpha` parameter to determine the timestep\n",
    "- Construct an array `p` with `N+1` rows (space) and 3 columns for the **past, present and future** times.\n",
    "- Choose a simple initial condition, with a **localised pressure peak**"
   ]
  },
  {
   "cell_type": "code",
   "execution_count": null,
   "id": "30a0431b",
   "metadata": {
    "slideshow": {
     "slide_type": "-"
    }
   },
   "outputs": [],
   "source": [
    "def initialise(N=1000, L=128.0, alpha=0.1,peak=1,c=1):\n",
    "    dx = L/N\n",
    "    dt = alpha/c*dt\n",
    "    ...\n",
    "    \n",
    "    return p,alpha,dx,dt"
   ]
  },
  {
   "cell_type": "code",
   "execution_count": null,
   "id": "cf3abc52",
   "metadata": {
    "slideshow": {
     "slide_type": "subslide"
    }
   },
   "outputs": [],
   "source": [
    "def initialise(N=1000, L=128.0, alpha=0.1,peak=1.0,c=1):\n",
    "    dx = L/N\n",
    "    dt = alpha/c*dx\n",
    "    # define pressure array\n",
    "    p = np.zeros((N+1,3)) # N+1 space points, and 3 (past/present/future) time points\n",
    "    \n",
    "    # initial conditions\n",
    "    #     1:pressure peak\n",
    "    p[N//2-1:N//2+2,0] = peak\n",
    "    #     2: dpdt=0\n",
    "    p[:,1] = p[:,0] #0th time profile equal to 1st time profile\n",
    "    return p,alpha,dx,dt"
   ]
  },
  {
   "cell_type": "markdown",
   "id": "576d2a13",
   "metadata": {
    "slideshow": {
     "slide_type": "slide"
    }
   },
   "source": [
    "### Time evolution\n",
    "We then apply the **recursion formula**\n",
    "\n",
    "$$\n",
    "\\begin{equation}\n",
    "\\boxed{p_i^{n+1}=\\alpha^2 \\left( p_{i+1}^{n}-2 p_{i}^n+p_{i-1}^{n}\\right)+2p_i^{n}-p_i^{n-1}}\n",
    "\\end{equation}\n",
    "$$\n",
    "\n",
    "initially in a naive way (an explicit `for-loop`). \n",
    "\n",
    "**Exercise:** _find a simple way to use_ `numpy`_'s vectorisation to avoid the for loop._"
   ]
  },
  {
   "cell_type": "code",
   "execution_count": null,
   "id": "e4ded376",
   "metadata": {},
   "outputs": [],
   "source": [
    "def naive_evolve(p,alpha,n=1):\n",
    "    for i in range(1,p.shape[0]-1):\n",
    "        p[i,n+1] =  alpha**2*...\n",
    "        \n",
    "    #     forget the past\n",
    "    p[:,n-1] = p[:,n] \n",
    "    # swap present with future\n",
    "    p[:,n] = p[:,n+1]\n",
    "    "
   ]
  },
  {
   "cell_type": "markdown",
   "id": "b79b5de9",
   "metadata": {
    "slideshow": {
     "slide_type": "subslide"
    }
   },
   "source": [
    "$$\n",
    "\\begin{equation}\n",
    "\\boxed{p_i^{n+1}=\\alpha^2 \\left( p_{i+1}^{n}-2 p_{i}^n+p_{i-1}^{n}\\right)+2p_i^{n}-p_i^{n-1}}\n",
    "\\end{equation}\n",
    "$$"
   ]
  },
  {
   "cell_type": "code",
   "execution_count": null,
   "id": "852cad0a",
   "metadata": {
    "slideshow": {
     "slide_type": "-"
    }
   },
   "outputs": [],
   "source": [
    "def naive_evolve(p,alpha,n=1):\n",
    "    for i in range(1,p.shape[0]-1):\n",
    "        p[i,n+1] =  alpha**2*(p[i+1,n]-2*p[i,n]+p[i-1,n])+2*p[i,n]-p[i,n-1]\n",
    "        \n",
    "    #     forget the past\n",
    "    p[:,n-1] = p[:,n] \n",
    "    # swap present with future\n",
    "    p[:,n] = p[:,n+1]\n",
    "        "
   ]
  },
  {
   "cell_type": "markdown",
   "id": "87ae9c1b",
   "metadata": {
    "slideshow": {
     "slide_type": "slide"
    }
   },
   "source": [
    "### Boundary conditions\n",
    "\n",
    "We finally have the boundary conditions, which we choose to be trivial and constant"
   ]
  },
  {
   "cell_type": "code",
   "execution_count": null,
   "id": "9da8d58c",
   "metadata": {
    "slideshow": {
     "slide_type": "-"
    }
   },
   "outputs": [],
   "source": [
    "def boundaries(p):\n",
    "    p[0,:] = 0\n",
    "    p[-1,:] = 0"
   ]
  },
  {
   "cell_type": "markdown",
   "id": "7517eb6b",
   "metadata": {
    "slideshow": {
     "slide_type": "slide"
    }
   },
   "source": [
    "We can then put everything toghether"
   ]
  },
  {
   "cell_type": "code",
   "execution_count": null,
   "id": "de06c2ef",
   "metadata": {},
   "outputs": [],
   "source": [
    "L, N, tmax = 100.0, 200, 20.0\n",
    "p, alpha, dx, dt = initialise(N, L, alpha=0.1)\n",
    "x = np.arange(N+1)*dx\n",
    "fig, ax = plt.subplots()\n",
    "# time evolution\n",
    "for iteration in range(int(tmax/dt)):\n",
    "    naive_evolve(p,alpha)\n",
    "    boundaries(p)\n",
    "    if iteration%int(tmax/dt/10)==0: ax.plot(x,p[:,1])      \n",
    "plt.show()"
   ]
  },
  {
   "cell_type": "markdown",
   "id": "e1380e80",
   "metadata": {
    "slideshow": {
     "slide_type": "slide"
    }
   },
   "source": [
    "## A simple animation\n",
    "\n",
    "We can use `FuncAnimation` from `matplotlib` to produce a basic animation."
   ]
  },
  {
   "cell_type": "code",
   "execution_count": null,
   "id": "5e09e406",
   "metadata": {},
   "outputs": [],
   "source": [
    "plt.close('all')"
   ]
  },
  {
   "cell_type": "code",
   "execution_count": null,
   "id": "ed240698",
   "metadata": {},
   "outputs": [],
   "source": [
    "from matplotlib.animation import FuncAnimation\n",
    "L, N = 100.0, 200\n",
    "p, alpha, dx, dt = initialise(N, L,alpha=0.3)\n",
    "x = np.arange(N+1)*dx\n",
    "fig, axis = plt.subplots()\n",
    "line, = axis.plot(x,p[:,1])\n",
    "axis.set_ylim(-0.5,0.5)\n",
    "def update(frame):\n",
    "    \"\"\"Update the pressure field and its plot\"\"\"\n",
    "    naive_evolve(p,alpha)\n",
    "    boundaries(p)\n",
    "    line.set_ydata(p[:,1])\n",
    "    return line,\n",
    "animation = FuncAnimation(fig, update,  frames=range(1000),interval=2,repeat=False)"
   ]
  },
  {
   "cell_type": "markdown",
   "id": "2ac5836d",
   "metadata": {
    "slideshow": {
     "slide_type": "slide"
    }
   },
   "source": [
    "## Testing\n",
    "\n",
    "An essential component of good code are **tests**.\n",
    "\n",
    "We can check the correctness of our solution by comparing it to a known **analytical** results.\n",
    "\n",
    "Here, the simplest option is to carefully choose an initial condition compatible with the boundaries to have closed form solution. \n",
    "\n",
    "In this case, **standing waves** are a good solution\n",
    "\n",
    "$$p(x,t) = A\\sin\\left(\\dfrac{\\pi x}{L}\\right)\\cos\\left(\\dfrac{\\pi c t}{L}\\right) $$\n",
    "\n",
    "\n"
   ]
  },
  {
   "cell_type": "markdown",
   "id": "acf2cf04",
   "metadata": {
    "slideshow": {
     "slide_type": "slide"
    }
   },
   "source": [
    "So, we simply modify the initalisation function to start from a suitable sine function"
   ]
  },
  {
   "cell_type": "code",
   "execution_count": null,
   "id": "8074e756",
   "metadata": {
    "slideshow": {
     "slide_type": "-"
    }
   },
   "outputs": [],
   "source": [
    "def initialise_standing(N=1000, L=128.0, alpha=0.1,c=1, amplitude=1):\n",
    "    dx = L/N\n",
    "    dt = alpha/c*dx\n",
    "    p = np.zeros((N+1,3))\n",
    "    x = np.arange(N+1)*dx\n",
    "    #     standing wave\n",
    "    p [:,0] = amplitude*np.sin(np.pi/L*x)\n",
    "    # initial condition    \n",
    "    p[:,1] = p[:,0]\n",
    "    return p,alpha,dx,dt,c"
   ]
  },
  {
   "cell_type": "markdown",
   "id": "03ee489e",
   "metadata": {
    "slideshow": {
     "slide_type": "slide"
    }
   },
   "source": [
    "The bulk of the code remains essentially the same (and could be easily transformed into a `pytest` function)"
   ]
  },
  {
   "cell_type": "code",
   "execution_count": null,
   "id": "07cce644",
   "metadata": {},
   "outputs": [],
   "source": [
    "plt.close('all')\n",
    "\n",
    "L, N, tmax = 100.0, 60, 20.0\n",
    "p, alpha, dx, dt, c = initialise_standing(N, L,alpha=0.1)\n",
    "x = np.arange(N+1)*dx \n",
    "fig_test, ax_test = plt.subplots()\n",
    "\n",
    "for iteration in range(int(tmax/dt)):\n",
    "    naive_evolve(p,alpha)\n",
    "    boundaries(p)\n",
    "    if iteration%int(tmax/dt/10)==0: \n",
    "        ax_test.plot(x,p[:,1]) # plotting the pressure profile\n",
    "        theory = np.sin(np.pi/L*x)*np.cos(np.pi/L*c*iteration*dt) #  plotting the analytical result with black dashes\n",
    "        ax_test.plot(x,theory, '--k', alpha=0.5)\n",
    "plt.xlim(0,L)\n",
    "plt.show()\n",
    "\n",
    "print(f\"Final mean square error is {np.mean((theory-p[:,1])**2)} \")"
   ]
  },
  {
   "cell_type": "markdown",
   "id": "f0ea118b",
   "metadata": {
    "slideshow": {
     "slide_type": "skip"
    }
   },
   "source": [
    "## Time profile\n",
    "\n",
    "We started with a simple experiment recording the waveform in time. Can we approximate it?\n",
    "\n",
    "Can just go back to our spike pulse and look at the pressure field at some distance from the origin of the signal over time.\n",
    "\n"
   ]
  },
  {
   "cell_type": "code",
   "execution_count": null,
   "id": "017adcd5",
   "metadata": {
    "slideshow": {
     "slide_type": "skip"
    }
   },
   "outputs": [],
   "source": [
    "L, N, tmax = 100.0, 200, 60.0\n",
    "p, alpha, dx, dt = initialise(N, L)\n",
    "distance = int((L*0.5)-(L*0.1))\n",
    "p_t = []\n",
    "\n",
    "fig,ax = plt.subplots()\n",
    "for iteration in range(int(tmax/dt)):\n",
    "    naive_evolve(p,alpha)\n",
    "    boundaries(p)\n",
    "    p_t .append(p[distance,1])\n",
    "ax.plot(np.arange(0,tmax,dt),p_t)\n",
    "plt.xlabel('time [a.u.]'), plt.ylabel(\"p(distance,t) [a.u]\")"
   ]
  },
  {
   "cell_type": "markdown",
   "id": "46706da0",
   "metadata": {
    "slideshow": {
     "slide_type": "slide"
    }
   },
   "source": [
    "## Conclusions\n",
    "\n",
    "We have seen an implementation of the **finite difference** method to solve the wave equation in one spatial dimension.\n",
    "\n",
    "You can find this notebook at https://github.com/FTurci/Waves\n",
    "\n",
    "A web application is also available [here](https://one-d-waves-fbfa3e091dea.herokuapp.com/src)\n",
    "\n",
    "<img src=\"qr.png\" alt=\"qr-code\" style=\"width: 300px; height: 300px;\">\n",
    "\n",
    "📕 Further reading: check the *Wave equations* chapter of Langtangen & Linge,  *Finite Difference Computing with PDEs. A Modern Software Approach* (Springer International Publishing, 2017)."
   ]
  }
 ],
 "metadata": {
  "celltoolbar": "Slideshow",
  "kernelspec": {
   "display_name": "Python 3 (ipykernel)",
   "language": "python",
   "name": "python3"
  },
  "language_info": {
   "codemirror_mode": {
    "name": "ipython",
    "version": 3
   },
   "file_extension": ".py",
   "mimetype": "text/x-python",
   "name": "python",
   "nbconvert_exporter": "python",
   "pygments_lexer": "ipython3",
   "version": "3.11.1"
  }
 },
 "nbformat": 4,
 "nbformat_minor": 5
}
